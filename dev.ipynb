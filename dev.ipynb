{
  "cells": [
    {
      "cell_type": "markdown",
      "metadata": {
        "id": "ZktjRJuZp1h6"
      },
      "source": [
        "\n",
        "Create a Minecraft Server on Google Colab!\n",
        "\n",
        "The script below will initiate your server. First, you will need to create the server to be able to use it - don't worry, the scripts below will do the majority of the work for you. Perhaps you want to change the server's region, check below.\n",
        "\n",
        "Original: https://github.com/devrock07/minecolab\n",
        "Modified Version Well Optimized\n",
        "\n",
        "```\n",
        "███████╗███████╗███╗   ██╗██╗████████╗██╗  ██╗███████╗███████╗███╗   ██╗██████╗  █████╗ ██╗\n",
        "╚══███╔╝██╔════╝████╗  ██║██║╚══██╔══╝██║  ██║██╔════╝██╔════╝████╗  ██║██╔══██╗██╔══██╗██║\n",
        "  ███╔╝ █████╗  ██╔██╗ ██║██║   ██║   ███████║███████╗█████╗  ██╔██╗ ██║██████╔╝███████║██║\n",
        " ███╔╝  ██╔══╝  ██║╚██╗██║██║   ██║   ██╔══██║╚════██║██╔══╝  ██║╚██╗██║██╔═══╝ ██╔══██║██║\n",
        "███████╗███████╗██║ ╚████║██║   ██║   ██║  ██║███████║███████╗██║ ╚████║██║     ██║  ██║██║\n",
        "╚══════╝╚══════╝╚═╝  ╚═══╝╚═╝   ╚═╝   ╚═╝  ╚═╝╚══════╝╚══════╝╚═╝  ╚═══╝╚═╝     ╚═╝  ╚═╝╚═╝                                                                                                                        \n",
        "\n",
        "```\n"
      ]
    },
    {
      "cell_type": "markdown",
      "metadata": {
        "id": "_4IowSDVUZp8"
      },
      "source": [
        "# **1º Create the Server (Only do this the first time)**\n",
        "\n",
        "The code below will create your server and accept the EULA. When you use these scripts, your server will be ready to start."
      ]
    },
    {
      "cell_type": "markdown",
      "metadata": {
        "id": "7wrNfinQOlWV"
      },
      "source": [
        "\n",
        "**Download the Minecraft Server**\n",
        "\n",
        "The code below will download Paper, a type of high-performance Vanilla server that allows the use of plugins. If you want to use another type of server.jar, put it in the Drive folder manually.\n",
        "\n",
        "The server files will be saved on your Google Drive (in the Google account you choose or are using)."
      ]
    },
    {
      "cell_type": "code",
      "execution_count": null,
      "metadata": {
        "id": "Fy5-YjJMPV3S"
      },
      "outputs": [],
      "source": [
        "# Change \"1.21\" to the desired version.\n",
        "# Available tested versions:\n",
        "# - 1.21\n",
        "# - 1.20.2\n",
        "# - 1.20.1\n",
        "# Newer versions might work too, however this isn't guaranteed.\n",
        "\n",
        "version = '1.21'\n",
        "\n",
        "# Choose server type. Currently available versions:\n",
        "# - paper (Most vanilla. It's the same as SPIGOT, bukkit, etc.)\n",
        "# - forge (For using MODS. It's basically FORGE) [Note, installation takes approximately 10-15 minutes, wait for \"COMPLETED\" after executing the first step.]\n",
        "# - fabric (For playing Fabric. It's an alternative to Forge)\n",
        "\n",
        "server_type = 'paper'\n",
        "\n",
        "from google.colab import drive\n",
        "import requests\n",
        "import json\n",
        "\n",
        "drive.mount('/content/drive')\n",
        "\n",
        "# Create the directory which will be used for the server\n",
        "! mkdir \"/content/drive/My Drive/Minecraft-server\"\n",
        "%cd \"/content/drive/My Drive/Minecraft-server\"\n",
        "\n",
        "# Internal init...\n",
        "\n",
        "a = requests.get(\"https://papermc.io/api/v2/projects/paper/versions/\" + version)\n",
        "b = requests.get(\"https://papermc.io/api/v2/projects/paper/versions/\" + version + \"/builds/\" + str(a.json()[\"builds\"][-1]))\n",
        "paperURL = \"https://papermc.io/api/v2/projects/paper/versions/\" + version + \"/builds/\" + str(a.json()[\"builds\"][-1]) + \"/downloads/\" + b.json()[\"downloads\"][\"application\"][\"name\"]\n",
        "\n",
        "forgeURL = \"https://serverjars.com/api/fetchJar/modded/forge/\" + version\n",
        "\n",
        "jar_name = {'paper': 'server.jar', 'fabric': 'fabric-installer.jar', 'forge': 'forge-installer.jar'}\n",
        "url = {\n",
        "    'paper': paperURL,\n",
        "    'fabric': 'https://maven.fabricmc.net/net/fabricmc/fabric-installer/0.7.4/fabric-installer-0.7.4.jar',\n",
        "    'forge': forgeURL\n",
        "}\n",
        "\n",
        "print('Downloading to Google Drive...')\n",
        "\n",
        "r = requests.get(url[server_type])\n",
        "\n",
        "if r.status_code == 200:\n",
        "    with open('/content/drive/My Drive/Minecraft-server/' + jar_name[server_type], 'wb') as f:\n",
        "        f.write(r.content)\n",
        "else:\n",
        "    print('Error '+ str(r.status_code) + '! Most likely you entered an unsupported version. Try running the code again if you think that shouldn\\'t have happened.')\n",
        "\n",
        "# Running specific install path.\n",
        "if server_type == 'fabric':\n",
        "    !java -jar fabric-installer.jar server -mcversion $version -downloadMinecraft\n",
        "\n",
        "if server_type == 'forge':\n",
        "    %cd \"/content/drive/My Drive/Minecraft-server\"\n",
        "    !java -jar forge-installer.jar --installServer\n",
        "\n",
        "# Saving config\n",
        "colabconfig = {\"server_type\": server_type,\n",
        "               \"server_version\": version}\n",
        "json.dump(colabconfig, open(\"colabconfig.json\",'w'))\n",
        "\n",
        "print('Completed!')  # todo: Would show even after erroring.\n",
        "\n",
        "# Please read the file stored in your server folder before running this command.\n",
        "# Also, go to https://www.minecraft.net/en-us/eula to read Minecraft's EULA.\n",
        "\n",
        "# Make sure Drive is mounted\n",
        "from google.colab import drive\n",
        "drive.mount('/content/drive')\n",
        "\n",
        "%cd \"/content/drive/My Drive/Minecraft-server\"\n",
        "!echo \"eula=true\" >> eula.txt\n"
      ]
    },
    {
      "cell_type": "markdown",
      "metadata": {
        "id": "jOY5-kCGvzh9"
      },
      "source": [
        "# **-> Start the Minecraft server - Use this whenever you want to open it.**\n",
        "\n"
      ]
    },
    {
      "cell_type": "code",
      "execution_count": null,
      "metadata": {
        "id": "lqtMoYg0dUmu"
      },
      "outputs": [],
      "source": [
        "import os\n",
        "import json\n",
        "from google.colab import drive\n",
        "\n",
        "# Update the package lists\n",
        "!sudo apt update &>/dev/null && echo \"apt cache successfully updated\" || echo \"apt cache update failed, you might receive stale packages\"\n",
        "\n",
        "# Mount Google Drive\n",
        "drive.mount('/content/drive')\n",
        "\n",
        "# Change directory to the Minecraft server folder on Google Drive\n",
        "%cd \"/content/drive/My Drive/Minecraft-server\"\n",
        "!ls # List the directory contents (to verify that working directory was changed)\n",
        "\n",
        "# Import config file\n",
        "if os.path.isfile(\"colabconfig.json\"):\n",
        "    colabconfig = json.load(open(\"colabconfig.json\"))\n",
        "else:\n",
        "    colabconfig = {\"server_type\": \"generic\"} # using default, if config doesn't exist.\n",
        "    json.dump(colabconfig, open(\"colabconfig.json\",'w'))\n",
        "\n",
        "# Install OpenJDK 21\n",
        "!sudo apt-get install openjdk-21-jre-headless &>/dev/null && echo \"Yay! Openjdk21 has been successfully installed.\" || echo \"Failed to install OpenJdk21.\"\n",
        "\n",
        "# Perform java version check\n",
        "java_ver = !java -version 2>&1 | awk -F[\\\"\\.] -v OFS=. 'NR==1{print $2}'\n",
        "if java_ver[0] == \"21\":\n",
        "    print(\"Openjdk21 is working correctly, you are good to go.\")\n",
        "else:\n",
        "    print(\"Openjdk21 doesn't seem to be installed or isn't working, falling back to java\", java_ver[0], \". You might experience reduced performance. Minecraft 1.21 and above might fail to launch.\")\n",
        "\n",
        "# Server jar names\n",
        "jar_list = {'paper': 'server.jar', 'fabric': 'fabric-server-launch.jar', 'generic': 'server.jar', 'forge': 'forge.jar'}\n",
        "jar_name = jar_list[colabconfig[\"server_type\"]]\n",
        "\n",
        "# Java arguments\n",
        "if colabconfig[\"server_type\"] == \"paper\":\n",
        "    server_flags = \"-XX:+UseG1GC -XX:+ParallelRefProcEnabled -XX:MaxGCPauseMillis=200 -XX:+UnlockExperimentalVMOptions -XX:+DisableExplicitGC -XX:+AlwaysPreTouch -XX:G1NewSizePercent=30 -XX:G1MaxNewSizePercent=40 -XX:G1HeapRegionSize=8M -XX:G1ReservePercent=20 -XX:G1HeapWastePercent=5 -XX:G1MixedGCCountTarget=4 -XX:InitiatingHeapOccupancyPercent=15 -XX:G1MixedGCLiveThresholdPercent=90 -XX:G1RSetUpdatingPauseTimePercent=5 -XX:SurvivorRatio=32 -XX:+PerfDisableSharedMem -XX:MaxTenuringThreshold=1 -Dusing.aikars.flags=https://mcflags.emc.gs -Daikars.new.flags=true\"\n",
        "else:\n",
        "    server_flags = \"\" # Aiker's flags might negatively impact performance on non-paper servers.\n",
        "memory_allocation = \"-Xms8704M -Xmx8704M\"\n",
        "\n",
        "# Set default region\n",
        "default_region = \"us\"\n",
        "available_regions = [\"us\", \"eu\", \"ap\", \"au\", \"sa\", \"jp\", \"in\"]\n",
        "print(f\"Default region is {default_region}. Available regions: {', '.join(available_regions)}\")\n",
        "\n",
        "# Option to change region\n",
        "change_region = input(\"Do you want to change the default region? (yes/no): \").strip().lower()\n",
        "if change_region == \"yes\":\n",
        "    new_region = input(f\"Enter new region from the available regions ({', '.join(available_regions)}): \").strip().lower()\n",
        "    if new_region in available_regions:\n",
        "        default_region = new_region\n",
        "        print(f\"Region changed to {default_region}.\")\n",
        "    else:\n",
        "        print(f\"Invalid region. Using default region {default_region}.\")\n",
        "\n",
        "# Example of how the region might be used for a tunnel service (just for reference, Playit does not support this argument)\n",
        "print(f\"Selected region: {default_region}\")\n",
        "\n",
        "# Choose the tunnel service you want to use\n",
        "\n",
        "# Available options: ngrok, argo, playit\n",
        "tunnel_service = \"playit\"\n",
        "print(\"Using\", tunnel_service)\n",
        "\n",
        "!java $memory_allocation $server_flags -jar $jar_name nogui\n"
      ]
    },
    {
      "cell_type": "markdown",
      "metadata": {
        "id": "MrnX6jsOvzh-"
      },
      "source": [
        "**FAQ - THINGS YOU NEED TO KNOW**\n",
        "\n",
        "you just need to download playit.gg plugin and from there you can make a static ip."
      ]
    },
    {
      "cell_type": "markdown",
      "metadata": {},
      "source": [
        "open google drive for adding plugins and other files modification."
      ]
    }
  ],
  "metadata": {
    "colab": {
      "provenance": []
    },
    "kernelspec": {
      "display_name": "Python 3",
      "name": "python3"
    }
  },
  "nbformat": 4,
  "nbformat_minor": 0
}
